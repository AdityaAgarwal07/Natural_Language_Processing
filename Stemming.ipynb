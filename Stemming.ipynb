{
  "nbformat": 4,
  "nbformat_minor": 0,
  "metadata": {
    "colab": {
      "provenance": [],
      "authorship_tag": "ABX9TyOtxAOjNR1+PzXapihYc+CJ",
      "include_colab_link": true
    },
    "kernelspec": {
      "name": "python3",
      "display_name": "Python 3"
    },
    "language_info": {
      "name": "python"
    }
  },
  "cells": [
    {
      "cell_type": "markdown",
      "metadata": {
        "id": "view-in-github",
        "colab_type": "text"
      },
      "source": [
        "<a href=\"https://colab.research.google.com/github/AdityaAgarwal07/Natural_Language_Processing/blob/main/Stemming.ipynb\" target=\"_parent\"><img src=\"https://colab.research.google.com/assets/colab-badge.svg\" alt=\"Open In Colab\"/></a>"
      ]
    },
    {
      "cell_type": "code",
      "execution_count": 1,
      "metadata": {
        "id": "xJnTcLmimy6f"
      },
      "outputs": [],
      "source": [
        "## Classification Problem\n",
        "## Comment of product is positive or negative review\n",
        "## Reviews --> [going, gone, goes]--> go"
      ]
    },
    {
      "cell_type": "code",
      "source": [
        "words=[\"eating\",\"eats\",\"eaten\",\"writing\",\"writes\",\"programming\",\"programs\",\"history\",\"finally\",\"finalized\"]"
      ],
      "metadata": {
        "id": "Tl-TN7p8nuzy"
      },
      "execution_count": 2,
      "outputs": []
    },
    {
      "cell_type": "markdown",
      "source": [
        "# PorterStemmer"
      ],
      "metadata": {
        "id": "2TEEX8aGn7Tq"
      }
    },
    {
      "cell_type": "code",
      "source": [
        "from nltk.stem import PorterStemmer"
      ],
      "metadata": {
        "id": "JVtPNjt3oDhS"
      },
      "execution_count": 3,
      "outputs": []
    },
    {
      "cell_type": "code",
      "source": [
        "stemming = PorterStemmer()"
      ],
      "metadata": {
        "id": "Fe3PBP2ToKBD"
      },
      "execution_count": 5,
      "outputs": []
    },
    {
      "cell_type": "code",
      "source": [
        "for word in words:\n",
        "  print(f\"{word} --> {stemming.stem(word)}\")"
      ],
      "metadata": {
        "colab": {
          "base_uri": "https://localhost:8080/"
        },
        "id": "5oGF43GPoQN_",
        "outputId": "b3b1b1c8-0d67-4f1a-d0c4-3b3329b91484"
      },
      "execution_count": 8,
      "outputs": [
        {
          "output_type": "stream",
          "name": "stdout",
          "text": [
            "eating --> eat\n",
            "eats --> eat\n",
            "eaten --> eaten\n",
            "writing --> write\n",
            "writes --> write\n",
            "programming --> program\n",
            "programs --> program\n",
            "history --> histori\n",
            "finally --> final\n",
            "finalized --> final\n"
          ]
        }
      ]
    },
    {
      "cell_type": "code",
      "source": [
        "stemming.stem(\"Congratulations\")"
      ],
      "metadata": {
        "colab": {
          "base_uri": "https://localhost:8080/",
          "height": 36
        },
        "id": "pZRtxrTYoSxM",
        "outputId": "3611dede-d0f1-4411-b8c4-cff1892eb36c"
      },
      "execution_count": 9,
      "outputs": [
        {
          "output_type": "execute_result",
          "data": {
            "text/plain": [
              "'congratul'"
            ],
            "application/vnd.google.colaboratory.intrinsic+json": {
              "type": "string"
            }
          },
          "metadata": {},
          "execution_count": 9
        }
      ]
    },
    {
      "cell_type": "code",
      "source": [
        "## Entire meaning of the word has changed this is the major disadvantage of stemming"
      ],
      "metadata": {
        "id": "xKRBatD0otbY"
      },
      "execution_count": 11,
      "outputs": []
    },
    {
      "cell_type": "code",
      "source": [
        "stemming.stem(\"sitting\")"
      ],
      "metadata": {
        "colab": {
          "base_uri": "https://localhost:8080/",
          "height": 36
        },
        "id": "i-LbY7x8o5Yj",
        "outputId": "3261d77d-fa8c-4b3b-c860-84d359dcf75c"
      },
      "execution_count": 12,
      "outputs": [
        {
          "output_type": "execute_result",
          "data": {
            "text/plain": [
              "'sit'"
            ],
            "application/vnd.google.colaboratory.intrinsic+json": {
              "type": "string"
            }
          },
          "metadata": {},
          "execution_count": 12
        }
      ]
    },
    {
      "cell_type": "code",
      "source": [
        "## Now it giving a very good word. So stemming works for very good number of words"
      ],
      "metadata": {
        "id": "FsKDz3c8pGkm"
      },
      "execution_count": 14,
      "outputs": []
    },
    {
      "cell_type": "markdown",
      "source": [
        "# RegexpStemmer Class\n"
      ],
      "metadata": {
        "id": "dUltIw5FpiF3"
      }
    },
    {
      "cell_type": "code",
      "source": [
        "from nltk.stem import RegexpStemmer"
      ],
      "metadata": {
        "id": "Yzi-S9UZppLR"
      },
      "execution_count": 15,
      "outputs": []
    },
    {
      "cell_type": "code",
      "source": [
        "reg_stammer = RegexpStemmer('ing$|ness$|e$|able$', min=4)"
      ],
      "metadata": {
        "id": "Obz8B3jXpyav"
      },
      "execution_count": 21,
      "outputs": []
    },
    {
      "cell_type": "code",
      "source": [
        "reg_stammer.stem(\"eating\")"
      ],
      "metadata": {
        "colab": {
          "base_uri": "https://localhost:8080/",
          "height": 36
        },
        "id": "-t6-ctxmqTPw",
        "outputId": "8d4f9841-f043-4eb7-b015-b93632ac4870"
      },
      "execution_count": 20,
      "outputs": [
        {
          "output_type": "execute_result",
          "data": {
            "text/plain": [
              "'eat'"
            ],
            "application/vnd.google.colaboratory.intrinsic+json": {
              "type": "string"
            }
          },
          "metadata": {},
          "execution_count": 20
        }
      ]
    },
    {
      "cell_type": "code",
      "source": [
        "reg_stammer.stem(\"goodness\")"
      ],
      "metadata": {
        "colab": {
          "base_uri": "https://localhost:8080/",
          "height": 36
        },
        "id": "wwWAgsc7qUey",
        "outputId": "97e415bb-50a4-45d0-9f26-b2ab31d7672a"
      },
      "execution_count": 22,
      "outputs": [
        {
          "output_type": "execute_result",
          "data": {
            "text/plain": [
              "'good'"
            ],
            "application/vnd.google.colaboratory.intrinsic+json": {
              "type": "string"
            }
          },
          "metadata": {},
          "execution_count": 22
        }
      ]
    },
    {
      "cell_type": "markdown",
      "source": [
        "# Snowball Stemmer"
      ],
      "metadata": {
        "id": "nDzh2OtvqvdE"
      }
    },
    {
      "cell_type": "code",
      "source": [
        "from nltk.stem import SnowballStemmer"
      ],
      "metadata": {
        "id": "9MklOQr1q33v"
      },
      "execution_count": 23,
      "outputs": []
    },
    {
      "cell_type": "code",
      "source": [
        "snowballstemmer = SnowballStemmer('english')"
      ],
      "metadata": {
        "id": "FwwQ51QGrN2J"
      },
      "execution_count": 24,
      "outputs": []
    },
    {
      "cell_type": "code",
      "source": [
        "for word in words:\n",
        "  print(f\"{word} --> {snowballstemmer.stem(word)}\")"
      ],
      "metadata": {
        "colab": {
          "base_uri": "https://localhost:8080/"
        },
        "id": "fZlMC3HsrWk_",
        "outputId": "25424dea-952c-4759-eb34-57d8625f1910"
      },
      "execution_count": 25,
      "outputs": [
        {
          "output_type": "stream",
          "name": "stdout",
          "text": [
            "eating --> eat\n",
            "eats --> eat\n",
            "eaten --> eaten\n",
            "writing --> write\n",
            "writes --> write\n",
            "programming --> program\n",
            "programs --> program\n",
            "history --> histori\n",
            "finally --> final\n",
            "finalized --> final\n"
          ]
        }
      ]
    },
    {
      "cell_type": "code",
      "source": [
        "stemming.stem(\"fairly\"), stemming.stem(\"sportingly\")"
      ],
      "metadata": {
        "colab": {
          "base_uri": "https://localhost:8080/"
        },
        "id": "vM49QB-1rhLA",
        "outputId": "235b8737-7a1f-4905-9684-8ec516e02af9"
      },
      "execution_count": 26,
      "outputs": [
        {
          "output_type": "execute_result",
          "data": {
            "text/plain": [
              "('fairli', 'sportingli')"
            ]
          },
          "metadata": {},
          "execution_count": 26
        }
      ]
    },
    {
      "cell_type": "code",
      "source": [
        "snowballstemmer.stem(\"fairly\"), snowballstemmer.stem(\"sportingly\")"
      ],
      "metadata": {
        "colab": {
          "base_uri": "https://localhost:8080/"
        },
        "id": "-RFOyR08r6uX",
        "outputId": "4681bca5-5156-4375-a2f4-4f10a9327830"
      },
      "execution_count": 27,
      "outputs": [
        {
          "output_type": "execute_result",
          "data": {
            "text/plain": [
              "('fair', 'sport')"
            ]
          },
          "metadata": {},
          "execution_count": 27
        }
      ]
    },
    {
      "cell_type": "code",
      "source": [
        "## SnowballStemmer is way better than PorterStemmer in most of the cases"
      ],
      "metadata": {
        "id": "RlvpgPLnsC3p"
      },
      "execution_count": 28,
      "outputs": []
    }
  ]
}